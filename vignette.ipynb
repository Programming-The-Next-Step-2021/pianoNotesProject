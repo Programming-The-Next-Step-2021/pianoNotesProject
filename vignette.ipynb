{
 "cells": [
  {
   "cell_type": "markdown",
   "metadata": {},
   "source": [
    "# Vignette\n",
    "\n",
    "\n",
    "\n",
    "#### Introduction\n",
    "\n",
    "This package is built to help the user read sheet music. It can be used either with a MIDI piano (instructions on how to use your own are included below) or with the keyboard as an input. In the latter case the exact names of the notes need to be entered.\n",
    "\n",
    "\n",
    "\n",
    "#### How to start the program\n",
    "\n",
    "After copying the whole repository from GitHub or unpacking the zip file, one has to run the 'main.py' function that is present on the first level. As an alternative one can run the following code snipped which imports the package and starts it:"
   ]
  },
  {
   "cell_type": "code",
   "execution_count": 2,
   "metadata": {},
   "outputs": [
    {
     "ename": "RuntimeError",
     "evalue": "Please destroy the QApplication singleton before creating a new QApplication instance.",
     "output_type": "error",
     "traceback": [
      "\u001b[1;31m---------------------------------------------------------------------------\u001b[0m",
      "\u001b[1;31mRuntimeError\u001b[0m                              Traceback (most recent call last)",
      "\u001b[1;32m<ipython-input-2-d096dd70f647>\u001b[0m in \u001b[0;36m<module>\u001b[1;34m\u001b[0m\n\u001b[0;32m      1\u001b[0m \u001b[1;32mimport\u001b[0m \u001b[0mpiano_package\u001b[0m \u001b[1;32mas\u001b[0m \u001b[0mpp\u001b[0m\u001b[1;33m\u001b[0m\u001b[1;33m\u001b[0m\u001b[0m\n\u001b[0;32m      2\u001b[0m \u001b[1;33m\u001b[0m\u001b[0m\n\u001b[1;32m----> 3\u001b[1;33m \u001b[0mapp\u001b[0m \u001b[1;33m=\u001b[0m \u001b[0mpp\u001b[0m\u001b[1;33m.\u001b[0m\u001b[0mQApplication\u001b[0m\u001b[1;33m(\u001b[0m\u001b[0mpp\u001b[0m\u001b[1;33m.\u001b[0m\u001b[0msys\u001b[0m\u001b[1;33m.\u001b[0m\u001b[0margv\u001b[0m\u001b[1;33m)\u001b[0m\u001b[1;33m\u001b[0m\u001b[1;33m\u001b[0m\u001b[0m\n\u001b[0m\u001b[0;32m      4\u001b[0m \u001b[0mwindow\u001b[0m \u001b[1;33m=\u001b[0m \u001b[0mpp\u001b[0m\u001b[1;33m.\u001b[0m\u001b[0mMainWindow\u001b[0m\u001b[1;33m(\u001b[0m\u001b[1;33m)\u001b[0m\u001b[1;33m\u001b[0m\u001b[1;33m\u001b[0m\u001b[0m\n\u001b[0;32m      5\u001b[0m \u001b[1;33m\u001b[0m\u001b[0m\n",
      "\u001b[1;31mRuntimeError\u001b[0m: Please destroy the QApplication singleton before creating a new QApplication instance."
     ]
    }
   ],
   "source": [
    "import piano_package as pp\n",
    "\n",
    "app = pp.QApplication(pp.sys.argv)\n",
    "window = pp.MainWindow()\n",
    "\n",
    "# setup stylesheet\n",
    "pp.apply_stylesheet(app, theme=\"dark_red.xml\")\n",
    "\n",
    "# run\n",
    "window.show()\n",
    "\n",
    "app.exec_()\n"
   ]
  },
  {
   "cell_type": "markdown",
   "metadata": {},
   "source": [
    "After starting the program you are presented with the main menu:\n",
    "![Menu](img/main.png)"
   ]
  },
  {
   "cell_type": "markdown",
   "metadata": {},
   "source": [
    "In the top corner you can select between the option 'midi input' if you want to use your digital piano as input or the 'keyboard' if you want to use your normal computer keyboard to type in the note names.\n",
    "\n",
    "After making your selection you can click on the start button to start showing the notes.\n",
    "\n",
    "\n",
    "\n",
    "# Implementing the own piano\n",
    "\n",
    "If one wants to add one's own piano, the script number 6 in the \"incremental Scripts\" folder is useful as it "
   ]
  }
 ],
 "metadata": {
  "interpreter": {
   "hash": "55092f6b7ab1fee8bbeafa7ee5404a4caadea013cf9de7e9fe2600da75dcbfae"
  },
  "kernelspec": {
   "display_name": "Python 3",
   "language": "python",
   "name": "python3"
  },
  "language_info": {
   "codemirror_mode": {
    "name": "ipython",
    "version": 3
   },
   "file_extension": ".py",
   "mimetype": "text/x-python",
   "name": "python",
   "nbconvert_exporter": "python",
   "pygments_lexer": "ipython3",
   "version": "3.9.4"
  }
 },
 "nbformat": 4,
 "nbformat_minor": 4
}
